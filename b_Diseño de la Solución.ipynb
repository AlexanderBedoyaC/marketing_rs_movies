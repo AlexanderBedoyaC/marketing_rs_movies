{
 "cells": [
  {
   "cell_type": "markdown",
   "metadata": {},
   "source": [
    "# 1. Problema de negocio\n",
    "\n",
    "- Conseguir nuevos clientes.\n",
    "\n",
    "- Fidelización y mejora de la satisfacción de los clientes.\n",
    "\n",
    "- Que los usuarios usen más la plataforma y mantenerla competitiva.\n",
    "\n",
    "# 2. Problema analítico\n",
    "\n",
    "Diseñar e implementar un grupo de sistemas de recomendación efectivo que utilice los datos disponibles ofrecer recomendaciones de películas a los usuarios en función de sus preferencias y comportamientos pasados de visualización y calificación. Estos sistemas realizarán las siguientes recomendaciones:\n",
    "\n",
    "- Top 10 películas más calificadas\n",
    "\n",
    "- Top 10 películas mejor calificadas\n",
    "\n",
    "- Top 10 películas más calificadas por decada\n",
    "\n",
    "- Top 10 películas mejor calificadas decada\n",
    "\n",
    "- Top 10 películas más calificadas por género\n",
    "\n",
    "- Top 10 películas mejor calificadas por género\n",
    "\n",
    "- 10 películas más similares a una vista por el usuario\n",
    "\n",
    "- 10 películas más similares a todo el contenido visto por usuario\n",
    "\n",
    "- 10 películas con mayor calificación predicha\n",
    "\n",
    "# 3. Implementación\n",
    "\n",
    "1.\tSe tomarán datos diarios de las películas vistas por los usuarios para actualizar el sistema de recomendación basado en popularidad.\n",
    "\n",
    "2. Cada semana, se toma la información de películas nuevas agregadas y se actualiza una tabla en la que se indica para cada película cuáles son las 10 películas más parecidas, esta tabla se deja en un repositorio que es subido a la aplicación, con base en esta tabla cada vez que un usuario termina una película se despliegan las 10 películas recomendados.\n",
    "\n",
    "3. Diariamente se toma la información de películas vistas por el usuario, se actualiza su perfil y se actualiza la tabla con las recomendaciones por usuarios, la tabla se deja en una ruta que es tomada por la aplicación para actualizar el menú de recomendaciones personalizadas de cada usuario.\n",
    "\n",
    "4. En el menú de recomendaciones personalizadas se dejará disponible el botón \"recomendar películas que más me van a gustar\", cuando el usuario oprime este botón, la plataforma consume un api en el que se tiene expuesto un servicio con un modelo que predice los ratings de las películas no vistas del usuario y devuelve las 10 con mayor rating. Esta API con el modelo entrenado se actualiza semanalmente por parte del área de analítica.\n",
    "\n",
    "5. Se tendrá una tabla en la base de datos que contenga los estrenos de la semana siguiente y los usuarios puedan agregarla a una lista de pendiente que le notifique una vez esté disponible la película. Esta tabla se actualizará semanalmente."
   ]
  }
 ],
 "metadata": {
  "language_info": {
   "name": "python"
  },
  "orig_nbformat": 4
 },
 "nbformat": 4,
 "nbformat_minor": 2
}
