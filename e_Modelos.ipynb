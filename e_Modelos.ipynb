{
 "cells": [
  {
   "cell_type": "markdown",
   "metadata": {},
   "source": [
    "# 1. Importar librerías"
   ]
  },
  {
   "cell_type": "code",
   "execution_count": 77,
   "metadata": {},
   "outputs": [],
   "source": [
    "import numpy as np\n",
    "import pandas as pd\n",
    "import sqlite3 as sql\n",
    "from sklearn.preprocessing import MinMaxScaler\n",
    "from ipywidgets import interact ## para análisis interactivo\n",
    "from sklearn import neighbors ### basado en contenido un solo producto consumido\n",
    "import joblib\n",
    "from sklearn.preprocessing import MinMaxScaler\n",
    "\n",
    "from surprise import Reader, Dataset\n",
    "from surprise.model_selection import cross_validate, GridSearchCV\n",
    "from surprise import KNNBasic, KNNWithMeans, KNNWithZScore, KNNBaseline\n",
    "from surprise.model_selection import train_test_split"
   ]
  },
  {
   "cell_type": "markdown",
   "metadata": {},
   "source": [
    "# 2. Importar datos"
   ]
  },
  {
   "cell_type": "code",
   "execution_count": 2,
   "metadata": {},
   "outputs": [],
   "source": [
    "conn = sql.connect('data/db_movies')\n",
    "cur = conn.cursor()"
   ]
  },
  {
   "cell_type": "code",
   "execution_count": 3,
   "metadata": {},
   "outputs": [
    {
     "data": {
      "text/plain": [
       "[('ratings',),\n",
       " ('movies',),\n",
       " ('movies2',),\n",
       " ('ratings2',),\n",
       " ('movies_rating',),\n",
       " ('genres',)]"
      ]
     },
     "execution_count": 3,
     "metadata": {},
     "output_type": "execute_result"
    }
   ],
   "source": [
    "cur.execute('select name from sqlite_master where type = \"table\"')\n",
    "cur.fetchall()"
   ]
  },
  {
   "cell_type": "markdown",
   "metadata": {},
   "source": [
    "# 3. Sistemas basados en popularidad"
   ]
  },
  {
   "cell_type": "markdown",
   "metadata": {},
   "source": [
    "### 3.1. Top 10 películas más vistas"
   ]
  },
  {
   "cell_type": "code",
   "execution_count": 17,
   "metadata": {},
   "outputs": [
    {
     "data": {
      "text/html": [
       "<div>\n",
       "<style scoped>\n",
       "    .dataframe tbody tr th:only-of-type {\n",
       "        vertical-align: middle;\n",
       "    }\n",
       "\n",
       "    .dataframe tbody tr th {\n",
       "        vertical-align: top;\n",
       "    }\n",
       "\n",
       "    .dataframe thead th {\n",
       "        text-align: right;\n",
       "    }\n",
       "</style>\n",
       "<table border=\"1\" class=\"dataframe\">\n",
       "  <thead>\n",
       "    <tr style=\"text-align: right;\">\n",
       "      <th></th>\n",
       "      <th>title</th>\n",
       "      <th>rating_prom</th>\n",
       "      <th>view_num</th>\n",
       "    </tr>\n",
       "  </thead>\n",
       "  <tbody>\n",
       "    <tr>\n",
       "      <th>0</th>\n",
       "      <td>Forrest Gump (1994)</td>\n",
       "      <td>4.164134</td>\n",
       "      <td>329</td>\n",
       "    </tr>\n",
       "    <tr>\n",
       "      <th>1</th>\n",
       "      <td>Shawshank Redemption, The (1994)</td>\n",
       "      <td>4.429022</td>\n",
       "      <td>317</td>\n",
       "    </tr>\n",
       "    <tr>\n",
       "      <th>2</th>\n",
       "      <td>Pulp Fiction (1994)</td>\n",
       "      <td>4.197068</td>\n",
       "      <td>307</td>\n",
       "    </tr>\n",
       "    <tr>\n",
       "      <th>3</th>\n",
       "      <td>Silence of the Lambs, The (1991)</td>\n",
       "      <td>4.161290</td>\n",
       "      <td>279</td>\n",
       "    </tr>\n",
       "    <tr>\n",
       "      <th>4</th>\n",
       "      <td>Matrix, The (1999)</td>\n",
       "      <td>4.192446</td>\n",
       "      <td>278</td>\n",
       "    </tr>\n",
       "    <tr>\n",
       "      <th>5</th>\n",
       "      <td>Star Wars: Episode IV - A New Hope (1977)</td>\n",
       "      <td>4.231076</td>\n",
       "      <td>251</td>\n",
       "    </tr>\n",
       "    <tr>\n",
       "      <th>6</th>\n",
       "      <td>Jurassic Park (1993)</td>\n",
       "      <td>3.750000</td>\n",
       "      <td>238</td>\n",
       "    </tr>\n",
       "    <tr>\n",
       "      <th>7</th>\n",
       "      <td>Braveheart (1995)</td>\n",
       "      <td>4.031646</td>\n",
       "      <td>237</td>\n",
       "    </tr>\n",
       "    <tr>\n",
       "      <th>8</th>\n",
       "      <td>Terminator 2: Judgment Day (1991)</td>\n",
       "      <td>3.970982</td>\n",
       "      <td>224</td>\n",
       "    </tr>\n",
       "    <tr>\n",
       "      <th>9</th>\n",
       "      <td>Schindler's List (1993)</td>\n",
       "      <td>4.225000</td>\n",
       "      <td>220</td>\n",
       "    </tr>\n",
       "  </tbody>\n",
       "</table>\n",
       "</div>"
      ],
      "text/plain": [
       "                                       title  rating_prom  view_num\n",
       "0                        Forrest Gump (1994)     4.164134       329\n",
       "1           Shawshank Redemption, The (1994)     4.429022       317\n",
       "2                        Pulp Fiction (1994)     4.197068       307\n",
       "3           Silence of the Lambs, The (1991)     4.161290       279\n",
       "4                         Matrix, The (1999)     4.192446       278\n",
       "5  Star Wars: Episode IV - A New Hope (1977)     4.231076       251\n",
       "6                       Jurassic Park (1993)     3.750000       238\n",
       "7                          Braveheart (1995)     4.031646       237\n",
       "8          Terminator 2: Judgment Day (1991)     3.970982       224\n",
       "9                    Schindler's List (1993)     4.225000       220"
      ]
     },
     "execution_count": 17,
     "metadata": {},
     "output_type": "execute_result"
    }
   ],
   "source": [
    "query = '''\n",
    "SELECT title,\n",
    "        avg(rating) AS rating_prom,\n",
    "        count(*) AS view_num\n",
    "FROM movies_rating\n",
    "GROUP BY movieId\n",
    "ORDER BY view_num DESC\n",
    "LIMIT 10;\n",
    "'''\n",
    "pd.read_sql(query, conn)"
   ]
  },
  {
   "cell_type": "markdown",
   "metadata": {},
   "source": [
    "### 3.2. 10 películas mejor calificadas (calificadas al menos 30 veces)."
   ]
  },
  {
   "cell_type": "code",
   "execution_count": 19,
   "metadata": {},
   "outputs": [
    {
     "data": {
      "text/html": [
       "<div>\n",
       "<style scoped>\n",
       "    .dataframe tbody tr th:only-of-type {\n",
       "        vertical-align: middle;\n",
       "    }\n",
       "\n",
       "    .dataframe tbody tr th {\n",
       "        vertical-align: top;\n",
       "    }\n",
       "\n",
       "    .dataframe thead th {\n",
       "        text-align: right;\n",
       "    }\n",
       "</style>\n",
       "<table border=\"1\" class=\"dataframe\">\n",
       "  <thead>\n",
       "    <tr style=\"text-align: right;\">\n",
       "      <th></th>\n",
       "      <th>title</th>\n",
       "      <th>rating_prom</th>\n",
       "      <th>view_num</th>\n",
       "    </tr>\n",
       "  </thead>\n",
       "  <tbody>\n",
       "    <tr>\n",
       "      <th>0</th>\n",
       "      <td>Shawshank Redemption, The (1994)</td>\n",
       "      <td>4.429022</td>\n",
       "      <td>317</td>\n",
       "    </tr>\n",
       "    <tr>\n",
       "      <th>1</th>\n",
       "      <td>Patton (1970)</td>\n",
       "      <td>4.354839</td>\n",
       "      <td>31</td>\n",
       "    </tr>\n",
       "    <tr>\n",
       "      <th>2</th>\n",
       "      <td>Fight Club (1999)</td>\n",
       "      <td>4.325581</td>\n",
       "      <td>215</td>\n",
       "    </tr>\n",
       "    <tr>\n",
       "      <th>3</th>\n",
       "      <td>Lawrence of Arabia (1962)</td>\n",
       "      <td>4.300000</td>\n",
       "      <td>45</td>\n",
       "    </tr>\n",
       "    <tr>\n",
       "      <th>4</th>\n",
       "      <td>Bridge on the River Kwai, The (1957)</td>\n",
       "      <td>4.290698</td>\n",
       "      <td>43</td>\n",
       "    </tr>\n",
       "    <tr>\n",
       "      <th>5</th>\n",
       "      <td>Godfather, The (1972)</td>\n",
       "      <td>4.289062</td>\n",
       "      <td>192</td>\n",
       "    </tr>\n",
       "    <tr>\n",
       "      <th>6</th>\n",
       "      <td>12 Angry Men (1957)</td>\n",
       "      <td>4.281818</td>\n",
       "      <td>55</td>\n",
       "    </tr>\n",
       "    <tr>\n",
       "      <th>7</th>\n",
       "      <td>Casablanca (1942)</td>\n",
       "      <td>4.277778</td>\n",
       "      <td>99</td>\n",
       "    </tr>\n",
       "    <tr>\n",
       "      <th>8</th>\n",
       "      <td>Cool Hand Luke (1967)</td>\n",
       "      <td>4.271930</td>\n",
       "      <td>57</td>\n",
       "    </tr>\n",
       "    <tr>\n",
       "      <th>9</th>\n",
       "      <td>Dr. Strangelove or: How I Learned to Stop Worr...</td>\n",
       "      <td>4.268041</td>\n",
       "      <td>97</td>\n",
       "    </tr>\n",
       "  </tbody>\n",
       "</table>\n",
       "</div>"
      ],
      "text/plain": [
       "                                               title  rating_prom  view_num\n",
       "0                   Shawshank Redemption, The (1994)     4.429022       317\n",
       "1                                      Patton (1970)     4.354839        31\n",
       "2                                  Fight Club (1999)     4.325581       215\n",
       "3                          Lawrence of Arabia (1962)     4.300000        45\n",
       "4               Bridge on the River Kwai, The (1957)     4.290698        43\n",
       "5                              Godfather, The (1972)     4.289062       192\n",
       "6                                12 Angry Men (1957)     4.281818        55\n",
       "7                                  Casablanca (1942)     4.277778        99\n",
       "8                              Cool Hand Luke (1967)     4.271930        57\n",
       "9  Dr. Strangelove or: How I Learned to Stop Worr...     4.268041        97"
      ]
     },
     "execution_count": 19,
     "metadata": {},
     "output_type": "execute_result"
    }
   ],
   "source": [
    "query = '''\n",
    "SELECT title,\n",
    "        avg(rating) AS rating_prom,\n",
    "        count(*) AS view_num\n",
    "FROM movies_rating\n",
    "WHERE rating >= 1.0\n",
    "GROUP BY movieId\n",
    "HAVING view_num >= 30\n",
    "ORDER BY rating_prom DESC\n",
    "LIMIT 10;\n",
    "'''\n",
    "pd.read_sql(query, conn)"
   ]
  },
  {
   "cell_type": "markdown",
   "metadata": {},
   "source": [
    "### 3.3. Top 10 películas más vistas por decada de estreno"
   ]
  },
  {
   "cell_type": "code",
   "execution_count": 25,
   "metadata": {},
   "outputs": [],
   "source": [
    "query = '''\n",
    "SELECT DISTINCT year as year\n",
    "FROM movies_rating\n",
    "ORDER BY year DESC\n",
    "'''\n",
    "years = pd.read_sql(query, conn)"
   ]
  },
  {
   "cell_type": "code",
   "execution_count": 26,
   "metadata": {},
   "outputs": [],
   "source": [
    "decadas = [str(d) + '-' + str(d + 10) for d in range(1900, 2020, 10)]\n",
    "years['decada'] = pd.cut(years.year.astype(int), len(decadas), labels = decadas)"
   ]
  },
  {
   "cell_type": "code",
   "execution_count": 38,
   "metadata": {},
   "outputs": [
    {
     "data": {
      "application/vnd.jupyter.widget-view+json": {
       "model_id": "fc4297457810445686f656219e6f773e",
       "version_major": 2,
       "version_minor": 0
      },
      "text/plain": [
       "interactive(children=(Dropdown(description='Decada', options=('1900-1910', '1910-1920', '1920-1930', '1930-194…"
      ]
     },
     "metadata": {},
     "output_type": "display_data"
    },
    {
     "data": {
      "text/plain": [
       "<function __main__.top10_dec_est(Decada)>"
      ]
     },
     "execution_count": 38,
     "metadata": {},
     "output_type": "execute_result"
    }
   ],
   "source": [
    "def top10_dec_est(Decada):\n",
    "    d = Decada.split('-')\n",
    "    query = '''\n",
    "    SELECT title,\n",
    "        avg(rating) AS rating_prom,\n",
    "        count(*) AS view_num\n",
    "    FROM movies_rating\n",
    "    WHERE year >= \"{}\" and year < \"{}\"\n",
    "    GROUP BY movieId\n",
    "    ORDER BY view_num DESC\n",
    "    LIMIT 10;\n",
    "    '''.format(d[0], d[1])\n",
    "    return pd.read_sql(query, conn)\n",
    "\n",
    "interact(top10_dec_est, Decada = decadas)"
   ]
  },
  {
   "cell_type": "markdown",
   "metadata": {},
   "source": [
    "### 3.4. Top 10 películas mejor calificadas por decada de estreno (calificadas al menos 30 veces)."
   ]
  },
  {
   "cell_type": "code",
   "execution_count": 39,
   "metadata": {},
   "outputs": [
    {
     "data": {
      "application/vnd.jupyter.widget-view+json": {
       "model_id": "da15f97336b740a088912851f86e15d8",
       "version_major": 2,
       "version_minor": 0
      },
      "text/plain": [
       "interactive(children=(Dropdown(description='Decada', options=('1900-1910', '1910-1920', '1920-1930', '1930-194…"
      ]
     },
     "metadata": {},
     "output_type": "display_data"
    },
    {
     "data": {
      "text/plain": [
       "<function __main__.top10_rating_dec_est(Decada)>"
      ]
     },
     "execution_count": 39,
     "metadata": {},
     "output_type": "execute_result"
    }
   ],
   "source": [
    "def top10_rating_dec_est(Decada):\n",
    "    d = Decada.split('-')\n",
    "    query = '''\n",
    "    SELECT title,\n",
    "        avg(rating) AS rating_prom,\n",
    "        count(*) AS view_num\n",
    "    FROM movies_rating\n",
    "    WHERE year >= \"{}\" and year < \"{}\" and rating >= 1.0\n",
    "    GROUP BY movieId\n",
    "    HAVING view_num >= 30\n",
    "    ORDER BY rating_prom DESC\n",
    "    LIMIT 10;\n",
    "    '''.format(d[0], d[1])\n",
    "    return pd.read_sql(query, conn)\n",
    "\n",
    "interact(top10_rating_dec_est, Decada = decadas)"
   ]
  },
  {
   "cell_type": "markdown",
   "metadata": {},
   "source": [
    "### 3.5. Top 10 películas más vistas el último mes"
   ]
  },
  {
   "cell_type": "code",
   "execution_count": 67,
   "metadata": {},
   "outputs": [
    {
     "data": {
      "text/plain": [
       "('2018', '09')"
      ]
     },
     "execution_count": 67,
     "metadata": {},
     "output_type": "execute_result"
    }
   ],
   "source": [
    "query = '''\n",
    "SELECT date\n",
    "FROM movies_rating\n",
    "ORDER BY date DESC\n",
    "LIMIT 1;\n",
    "'''\n",
    "ultimo_mes = pd.read_sql(query, conn).date.values[0].split('-')[1]\n",
    "ultimo_anio = pd.read_sql(query, conn).date.values[0].split('-')[0]\n",
    "ultimo_anio, ultimo_mes"
   ]
  },
  {
   "cell_type": "code",
   "execution_count": 75,
   "metadata": {},
   "outputs": [
    {
     "data": {
      "text/html": [
       "<div>\n",
       "<style scoped>\n",
       "    .dataframe tbody tr th:only-of-type {\n",
       "        vertical-align: middle;\n",
       "    }\n",
       "\n",
       "    .dataframe tbody tr th {\n",
       "        vertical-align: top;\n",
       "    }\n",
       "\n",
       "    .dataframe thead th {\n",
       "        text-align: right;\n",
       "    }\n",
       "</style>\n",
       "<table border=\"1\" class=\"dataframe\">\n",
       "  <thead>\n",
       "    <tr style=\"text-align: right;\">\n",
       "      <th></th>\n",
       "      <th>movieId</th>\n",
       "      <th>title</th>\n",
       "      <th>rating_prom</th>\n",
       "      <th>views_num</th>\n",
       "    </tr>\n",
       "  </thead>\n",
       "  <tbody>\n",
       "    <tr>\n",
       "      <th>0</th>\n",
       "      <td>187593</td>\n",
       "      <td>Deadpool 2 (2018)</td>\n",
       "      <td>3.333333</td>\n",
       "      <td>3</td>\n",
       "    </tr>\n",
       "    <tr>\n",
       "      <th>1</th>\n",
       "      <td>122906</td>\n",
       "      <td>Black Panther (2017)</td>\n",
       "      <td>4.000000</td>\n",
       "      <td>3</td>\n",
       "    </tr>\n",
       "    <tr>\n",
       "      <th>2</th>\n",
       "      <td>68358</td>\n",
       "      <td>Star Trek (2009)</td>\n",
       "      <td>4.000000</td>\n",
       "      <td>3</td>\n",
       "    </tr>\n",
       "    <tr>\n",
       "      <th>3</th>\n",
       "      <td>187595</td>\n",
       "      <td>Solo: A Star Wars Story (2018)</td>\n",
       "      <td>3.500000</td>\n",
       "      <td>2</td>\n",
       "    </tr>\n",
       "    <tr>\n",
       "      <th>4</th>\n",
       "      <td>183897</td>\n",
       "      <td>Isle of Dogs (2018)</td>\n",
       "      <td>3.750000</td>\n",
       "      <td>2</td>\n",
       "    </tr>\n",
       "    <tr>\n",
       "      <th>5</th>\n",
       "      <td>179401</td>\n",
       "      <td>Jumanji: Welcome to the Jungle (2017)</td>\n",
       "      <td>3.250000</td>\n",
       "      <td>2</td>\n",
       "    </tr>\n",
       "    <tr>\n",
       "      <th>6</th>\n",
       "      <td>177765</td>\n",
       "      <td>Coco (2017)</td>\n",
       "      <td>4.500000</td>\n",
       "      <td>2</td>\n",
       "    </tr>\n",
       "    <tr>\n",
       "      <th>7</th>\n",
       "      <td>168250</td>\n",
       "      <td>Get Out (2017)</td>\n",
       "      <td>3.500000</td>\n",
       "      <td>2</td>\n",
       "    </tr>\n",
       "    <tr>\n",
       "      <th>8</th>\n",
       "      <td>164179</td>\n",
       "      <td>Arrival (2016)</td>\n",
       "      <td>3.750000</td>\n",
       "      <td>2</td>\n",
       "    </tr>\n",
       "    <tr>\n",
       "      <th>9</th>\n",
       "      <td>148626</td>\n",
       "      <td>Big Short, The (2015)</td>\n",
       "      <td>4.750000</td>\n",
       "      <td>2</td>\n",
       "    </tr>\n",
       "  </tbody>\n",
       "</table>\n",
       "</div>"
      ],
      "text/plain": [
       "   movieId                                  title  rating_prom  views_num\n",
       "0   187593                      Deadpool 2 (2018)     3.333333          3\n",
       "1   122906                   Black Panther (2017)     4.000000          3\n",
       "2    68358                       Star Trek (2009)     4.000000          3\n",
       "3   187595         Solo: A Star Wars Story (2018)     3.500000          2\n",
       "4   183897                    Isle of Dogs (2018)     3.750000          2\n",
       "5   179401  Jumanji: Welcome to the Jungle (2017)     3.250000          2\n",
       "6   177765                            Coco (2017)     4.500000          2\n",
       "7   168250                         Get Out (2017)     3.500000          2\n",
       "8   164179                         Arrival (2016)     3.750000          2\n",
       "9   148626                  Big Short, The (2015)     4.750000          2"
      ]
     },
     "execution_count": 75,
     "metadata": {},
     "output_type": "execute_result"
    }
   ],
   "source": [
    "query = '''\n",
    "SELECT movieId, title,\n",
    "        avg(rating) as rating_prom,\n",
    "        count(movieId) as views_num\n",
    "FROM movies_rating\n",
    "WHERE strftime('%m', date) = \"{}\" and strftime('%Y', date) == \"{}\"\n",
    "GROUP BY movieId\n",
    "ORDER BY views_num DESC\n",
    "LIMIT 10;\n",
    "'''.format(ultimo_mes, ultimo_anio)\n",
    "pd.read_sql(query, conn)"
   ]
  },
  {
   "cell_type": "markdown",
   "metadata": {},
   "source": [
    "### 3.6. Top 10 películas más vistas el último año"
   ]
  },
  {
   "cell_type": "code",
   "execution_count": 76,
   "metadata": {},
   "outputs": [
    {
     "data": {
      "text/html": [
       "<div>\n",
       "<style scoped>\n",
       "    .dataframe tbody tr th:only-of-type {\n",
       "        vertical-align: middle;\n",
       "    }\n",
       "\n",
       "    .dataframe tbody tr th {\n",
       "        vertical-align: top;\n",
       "    }\n",
       "\n",
       "    .dataframe thead th {\n",
       "        text-align: right;\n",
       "    }\n",
       "</style>\n",
       "<table border=\"1\" class=\"dataframe\">\n",
       "  <thead>\n",
       "    <tr style=\"text-align: right;\">\n",
       "      <th></th>\n",
       "      <th>movieId</th>\n",
       "      <th>title</th>\n",
       "      <th>rating_prom</th>\n",
       "      <th>views_num</th>\n",
       "    </tr>\n",
       "  </thead>\n",
       "  <tbody>\n",
       "    <tr>\n",
       "      <th>0</th>\n",
       "      <td>2571</td>\n",
       "      <td>Matrix, The (1999)</td>\n",
       "      <td>4.184211</td>\n",
       "      <td>19</td>\n",
       "    </tr>\n",
       "    <tr>\n",
       "      <th>1</th>\n",
       "      <td>122916</td>\n",
       "      <td>Thor: Ragnarok (2017)</td>\n",
       "      <td>3.916667</td>\n",
       "      <td>18</td>\n",
       "    </tr>\n",
       "    <tr>\n",
       "      <th>2</th>\n",
       "      <td>79132</td>\n",
       "      <td>Inception (2010)</td>\n",
       "      <td>4.250000</td>\n",
       "      <td>18</td>\n",
       "    </tr>\n",
       "    <tr>\n",
       "      <th>3</th>\n",
       "      <td>7153</td>\n",
       "      <td>Lord of the Rings: The Return of the King, The...</td>\n",
       "      <td>4.083333</td>\n",
       "      <td>18</td>\n",
       "    </tr>\n",
       "    <tr>\n",
       "      <th>4</th>\n",
       "      <td>356</td>\n",
       "      <td>Forrest Gump (1994)</td>\n",
       "      <td>4.147059</td>\n",
       "      <td>17</td>\n",
       "    </tr>\n",
       "    <tr>\n",
       "      <th>5</th>\n",
       "      <td>8961</td>\n",
       "      <td>Incredibles, The (2004)</td>\n",
       "      <td>3.781250</td>\n",
       "      <td>16</td>\n",
       "    </tr>\n",
       "    <tr>\n",
       "      <th>6</th>\n",
       "      <td>5952</td>\n",
       "      <td>Lord of the Rings: The Two Towers, The (2002)</td>\n",
       "      <td>4.250000</td>\n",
       "      <td>16</td>\n",
       "    </tr>\n",
       "    <tr>\n",
       "      <th>7</th>\n",
       "      <td>122904</td>\n",
       "      <td>Deadpool (2016)</td>\n",
       "      <td>3.866667</td>\n",
       "      <td>15</td>\n",
       "    </tr>\n",
       "    <tr>\n",
       "      <th>8</th>\n",
       "      <td>58559</td>\n",
       "      <td>Dark Knight, The (2008)</td>\n",
       "      <td>4.233333</td>\n",
       "      <td>15</td>\n",
       "    </tr>\n",
       "    <tr>\n",
       "      <th>9</th>\n",
       "      <td>4993</td>\n",
       "      <td>Lord of the Rings: The Fellowship of the Ring,...</td>\n",
       "      <td>4.266667</td>\n",
       "      <td>15</td>\n",
       "    </tr>\n",
       "  </tbody>\n",
       "</table>\n",
       "</div>"
      ],
      "text/plain": [
       "   movieId                                              title  rating_prom  \\\n",
       "0     2571                                 Matrix, The (1999)     4.184211   \n",
       "1   122916                              Thor: Ragnarok (2017)     3.916667   \n",
       "2    79132                                   Inception (2010)     4.250000   \n",
       "3     7153  Lord of the Rings: The Return of the King, The...     4.083333   \n",
       "4      356                                Forrest Gump (1994)     4.147059   \n",
       "5     8961                            Incredibles, The (2004)     3.781250   \n",
       "6     5952      Lord of the Rings: The Two Towers, The (2002)     4.250000   \n",
       "7   122904                                    Deadpool (2016)     3.866667   \n",
       "8    58559                            Dark Knight, The (2008)     4.233333   \n",
       "9     4993  Lord of the Rings: The Fellowship of the Ring,...     4.266667   \n",
       "\n",
       "   views_num  \n",
       "0         19  \n",
       "1         18  \n",
       "2         18  \n",
       "3         18  \n",
       "4         17  \n",
       "5         16  \n",
       "6         16  \n",
       "7         15  \n",
       "8         15  \n",
       "9         15  "
      ]
     },
     "execution_count": 76,
     "metadata": {},
     "output_type": "execute_result"
    }
   ],
   "source": [
    "query = '''\n",
    "SELECT movieId, title,\n",
    "        avg(rating) as rating_prom,\n",
    "        count(movieId) as views_num\n",
    "FROM movies_rating\n",
    "WHERE strftime('%Y', date) == \"{}\"\n",
    "GROUP BY movieId\n",
    "ORDER BY views_num DESC\n",
    "LIMIT 10;\n",
    "'''.format(ultimo_anio)\n",
    "pd.read_sql(query, conn)"
   ]
  },
  {
   "cell_type": "markdown",
   "metadata": {},
   "source": [
    "### 3.7. Top 10 películas más vistas por género"
   ]
  },
  {
   "cell_type": "code",
   "execution_count": 34,
   "metadata": {},
   "outputs": [],
   "source": [
    "query = '''\n",
    "SELECT `Género`\n",
    "FROM genres\n",
    "'''\n",
    "genres = pd.read_sql(query, conn)"
   ]
  },
  {
   "cell_type": "code",
   "execution_count": 36,
   "metadata": {},
   "outputs": [
    {
     "data": {
      "application/vnd.jupyter.widget-view+json": {
       "model_id": "348b4d336d124f97874e19783f3b1d8a",
       "version_major": 2,
       "version_minor": 0
      },
      "text/plain": [
       "interactive(children=(Dropdown(description='Genre', options=('Drama', 'Comedy', 'Action', 'Thriller', 'Adventu…"
      ]
     },
     "metadata": {},
     "output_type": "display_data"
    },
    {
     "data": {
      "text/plain": [
       "<function __main__.top10_views_genre(Genre)>"
      ]
     },
     "execution_count": 36,
     "metadata": {},
     "output_type": "execute_result"
    }
   ],
   "source": [
    "def top10_views_genre(Genre):\n",
    "    query = '''\n",
    "    SELECT title,\n",
    "            avg(rating) as rating_prom,\n",
    "            sum({}) as views_num\n",
    "    FROM movies_rating\n",
    "    GROUP BY movieId\n",
    "    ORDER BY views_num DESC\n",
    "    LIMIT 10;\n",
    "    '''.format(Genre)\n",
    "    return pd.read_sql(query, conn)\n",
    "\n",
    "interact(top10_views_genre, Genre = list(genres['Género']))"
   ]
  },
  {
   "cell_type": "markdown",
   "metadata": {},
   "source": [
    "### 3.8. Top 10 películas mejor calificadas por género (calificadas al menos 30 veces)."
   ]
  },
  {
   "cell_type": "code",
   "execution_count": 37,
   "metadata": {},
   "outputs": [
    {
     "data": {
      "application/vnd.jupyter.widget-view+json": {
       "model_id": "1b804b37f65d4b098fba36989757904b",
       "version_major": 2,
       "version_minor": 0
      },
      "text/plain": [
       "interactive(children=(Dropdown(description='Genre', options=('Drama', 'Comedy', 'Action', 'Thriller', 'Adventu…"
      ]
     },
     "metadata": {},
     "output_type": "display_data"
    },
    {
     "data": {
      "text/plain": [
       "<function __main__.top10_rating_genre(Genre)>"
      ]
     },
     "execution_count": 37,
     "metadata": {},
     "output_type": "execute_result"
    }
   ],
   "source": [
    "def top10_rating_genre(Genre):\n",
    "    query = '''\n",
    "    SELECT title,\n",
    "            avg(rating) as rating_prom,\n",
    "            sum({}) as views_num\n",
    "    FROM movies_rating\n",
    "    WHERE rating >= 1.0\n",
    "    GROUP BY movieId\n",
    "    HAVING views_num >= 30\n",
    "    ORDER BY rating_prom DESC\n",
    "    LIMIT 10;\n",
    "    '''.format(Genre)\n",
    "    return pd.read_sql(query, conn)\n",
    "\n",
    "interact(top10_rating_genre, Genre = list(genres['Género']))"
   ]
  },
  {
   "cell_type": "markdown",
   "metadata": {},
   "source": [
    "# 4. Sistema de recomendación basado en contenido"
   ]
  },
  {
   "cell_type": "markdown",
   "metadata": {},
   "source": [
    "### 4.1. KNN una sola película vista."
   ]
  },
  {
   "cell_type": "markdown",
   "metadata": {},
   "source": [
    "Importar base de datos solo de películas"
   ]
  },
  {
   "cell_type": "code",
   "execution_count": 13,
   "metadata": {},
   "outputs": [],
   "source": [
    "movies = pd.read_sql('SELECT * FROM movies2;', conn)"
   ]
  },
  {
   "cell_type": "markdown",
   "metadata": {},
   "source": [
    "Escalar la variable año"
   ]
  },
  {
   "cell_type": "code",
   "execution_count": 14,
   "metadata": {},
   "outputs": [],
   "source": [
    "sc = MinMaxScaler()\n",
    "movies_std = movies.drop(['movieId', 'title'], axis = 1)\n",
    "movies_std[['year']] = sc.fit_transform(movies_std[['year']])"
   ]
  },
  {
   "cell_type": "markdown",
   "metadata": {},
   "source": [
    "Modelo con 11 vecinos más cercanos"
   ]
  },
  {
   "cell_type": "code",
   "execution_count": 15,
   "metadata": {},
   "outputs": [],
   "source": [
    "model = neighbors.NearestNeighbors(n_neighbors = 11, metric='cosine')\n",
    "model.fit(movies_std)\n",
    "dist, idlist = model.kneighbors(movies_std)\n",
    "\n",
    "distancias = pd.DataFrame(dist)\n",
    "id_list = pd.DataFrame(idlist)"
   ]
  },
  {
   "cell_type": "markdown",
   "metadata": {},
   "source": [
    "Sistema de recomendación"
   ]
  },
  {
   "cell_type": "code",
   "execution_count": 16,
   "metadata": {},
   "outputs": [
    {
     "data": {
      "application/vnd.jupyter.widget-view+json": {
       "model_id": "2b64f9e6dd3142b8858d5a3bd3d39f38",
       "version_major": 2,
       "version_minor": 0
      },
      "text/plain": [
       "interactive(children=(Dropdown(description='movies_name', options=(\"'71 (2014)\", \"'Hellboy': The Seeds of Crea…"
      ]
     },
     "metadata": {},
     "output_type": "display_data"
    },
    {
     "name": "stdout",
     "output_type": "stream",
     "text": [
      "<function MoviesRecommender at 0x0000029F306CCEA0>\n"
     ]
    }
   ],
   "source": [
    "def MoviesRecommender(movies_name = np.sort(list(movies['title'].value_counts().index))):\n",
    "    movies_list_name = []\n",
    "    movies_id = movies[movies['title'] == movies_name].index\n",
    "    movies_id = movies_id[0]\n",
    "    for newid in idlist[movies_id]:\n",
    "        movies_list_name.append(movies.loc[newid].title)\n",
    "    df = pd.DataFrame()\n",
    "    df['Movie'] = movies_list_name\n",
    "    df2 = df.drop(df[df['Movie'] == movies.loc[movies_id].title].index[0])\n",
    "    return df2\n",
    "\n",
    "\n",
    "print(interact(MoviesRecommender))"
   ]
  },
  {
   "cell_type": "markdown",
   "metadata": {},
   "source": [
    "### 4.2. KNN todas las películas vistas por el usuario"
   ]
  },
  {
   "cell_type": "code",
   "execution_count": 79,
   "metadata": {},
   "outputs": [],
   "source": [
    "query = '''\n",
    "select distinct (userId) as user_id\n",
    "from movies_rating\n",
    "'''\n",
    "usuarios = pd.read_sql(query,conn)"
   ]
  },
  {
   "cell_type": "code",
   "execution_count": 93,
   "metadata": {},
   "outputs": [],
   "source": [
    "def recomendar(user_id = np.sort(list(usuarios['user_id'].value_counts().index))):\n",
    "    \n",
    "    ###seleccionar solo los ratings del usuario seleccionado\n",
    "    query = '''\n",
    "    SELECT *\n",
    "    FROM movies_rating\n",
    "    WHERE userId = {} and rating >= 1.0;\n",
    "    '''.format(user_id)\n",
    "    ratings = pd.read_sql(query, conn)\n",
    "    \n",
    "    ###convertir ratings del usuario a array\n",
    "    l_movies_r = ratings['movieId'].to_numpy()\n",
    "    \n",
    "    ###agregar la columna de movieId y título de la película a dummie para filtrar y mostrar nombre\n",
    "    movies_std[['movieId','title']] = movies[['movieId','title']]\n",
    "    \n",
    "    ### filtrar películas calificados por el usuario\n",
    "    movies_r = movies_std[movies_std['movieId'].isin(l_movies_r)]\n",
    "    \n",
    "    ## eliminar columna nombre e movieId\n",
    "    movies_r = movies_r.drop(columns=['movieId','title'])\n",
    "    movies_r[\"indice\"] = 1 ### para usar group by y que quede en formato pandas tabla de centroide\n",
    "    ##centroide o perfil del usuario\n",
    "    centroide = movies_r.groupby(\"indice\").mean()\n",
    "    \n",
    "    \n",
    "    ### filtrar películas no leídos\n",
    "    movies_nr = movies_std[~movies_std['movieId'].isin(l_movies_r)]\n",
    "    ## eliminbar nombre e movieId\n",
    "    movies_nr = movies_nr.drop(columns=['movieId','title'])\n",
    "    \n",
    "    ### entrenar modelo \n",
    "    model=neighbors.NearestNeighbors(n_neighbors=11, metric='cosine')\n",
    "    model.fit(movies_nr)\n",
    "    dist, idlist = model.kneighbors(centroide)\n",
    "    \n",
    "    ids = idlist[0] ### queda en un array anidado, para sacarlo\n",
    "    recomend_b = movies.loc[ids][['title','movieId']]\n",
    "    leidos = movies[movies['movieId'].isin(l_movies_r)][['title','movieId']]\n",
    "    \n",
    "    return recomend_b"
   ]
  },
  {
   "cell_type": "code",
   "execution_count": 92,
   "metadata": {},
   "outputs": [
    {
     "data": {
      "application/vnd.jupyter.widget-view+json": {
       "model_id": "5309cc1449654559a127d1ab9b64fd06",
       "version_major": 2,
       "version_minor": 0
      },
      "text/plain": [
       "interactive(children=(Dropdown(description='user_id', options=(1, 2, 3, 4, 5, 6, 7, 8, 9, 10, 11, 12, 13, 14, …"
      ]
     },
     "metadata": {},
     "output_type": "display_data"
    },
    {
     "name": "stdout",
     "output_type": "stream",
     "text": [
      "<function recomendar at 0x0000029F37934900>\n"
     ]
    }
   ],
   "source": [
    "print(interact(recomendar))"
   ]
  },
  {
   "cell_type": "markdown",
   "metadata": {},
   "source": [
    "# 5. Filtros colaborativos"
   ]
  },
  {
   "cell_type": "markdown",
   "metadata": {},
   "source": [
    "## Obtener datos"
   ]
  },
  {
   "cell_type": "code",
   "execution_count": null,
   "metadata": {},
   "outputs": [],
   "source": [
    "# Se filtran los mayores o iguales a 1 ya que la escala es de 1 a 5 y los que no estan calificados vienen por defecto con 0.5\n",
    "df=pd.read_sql('select * from movies_rating where rating>=1', conn)"
   ]
  },
  {
   "cell_type": "markdown",
   "metadata": {},
   "source": [
    "### Definir escala"
   ]
  },
  {
   "cell_type": "code",
   "execution_count": null,
   "metadata": {},
   "outputs": [],
   "source": [
    "reader = Reader(rating_scale=(1,5))"
   ]
  },
  {
   "cell_type": "markdown",
   "metadata": {},
   "source": [
    "### Seleccionar columnas"
   ]
  },
  {
   "cell_type": "code",
   "execution_count": null,
   "metadata": {},
   "outputs": [],
   "source": [
    "df"
   ]
  },
  {
   "cell_type": "code",
   "execution_count": null,
   "metadata": {},
   "outputs": [],
   "source": [
    "ratings=df[['userId','movieId','rating']]\n",
    "ratings"
   ]
  },
  {
   "cell_type": "markdown",
   "metadata": {},
   "source": [
    "### Leer datos con surprise"
   ]
  },
  {
   "cell_type": "code",
   "execution_count": null,
   "metadata": {},
   "outputs": [],
   "source": [
    "data   = Dataset.load_from_df(ratings[['userId','movieId','rating']], reader)"
   ]
  },
  {
   "cell_type": "markdown",
   "metadata": {},
   "source": [
    "### Definir modelos a probar"
   ]
  },
  {
   "cell_type": "code",
   "execution_count": null,
   "metadata": {},
   "outputs": [],
   "source": [
    "models=[KNNBasic(),KNNWithMeans(),KNNWithZScore(),KNNBaseline()] \n",
    "results = {}"
   ]
  },
  {
   "cell_type": "code",
   "execution_count": null,
   "metadata": {},
   "outputs": [],
   "source": [
    "model=models[1]\n",
    "for model in models:\n",
    " \n",
    "    CV_scores = cross_validate(model, data, measures=[\"MAE\",\"RMSE\"], cv=5, n_jobs=-1)  \n",
    "    \n",
    "    result = pd.DataFrame.from_dict(CV_scores).mean(axis=0).\\\n",
    "             rename({'test_mae':'MAE', 'test_rmse': 'RMSE'})\n",
    "    results[str(model).split(\"algorithms.\")[1].split(\"object \")[0]] = result"
   ]
  },
  {
   "cell_type": "code",
   "execution_count": null,
   "metadata": {},
   "outputs": [],
   "source": [
    "performance_df = pd.DataFrame.from_dict(results).T\n",
    "performance_df.sort_values(by='RMSE')"
   ]
  },
  {
   "cell_type": "markdown",
   "metadata": {},
   "source": [
    "Se elige el KNN Basic ya que es el que tiene mejores metricas en MAE y RMSE"
   ]
  },
  {
   "cell_type": "markdown",
   "metadata": {},
   "source": [
    "### Definir grilla de busqueda"
   ]
  },
  {
   "cell_type": "code",
   "execution_count": null,
   "metadata": {},
   "outputs": [],
   "source": [
    "param_grid = { 'sim_options' : {'name': ['msd','cosine'], \\\n",
    "                                'min_support': [40,30,20,10,5,2], \\\n",
    "                                'user_based': [False, True]}\n",
    "             }"
   ]
  },
  {
   "cell_type": "code",
   "execution_count": null,
   "metadata": {},
   "outputs": [],
   "source": [
    "gridsearchKNNBasic = GridSearchCV(KNNBasic, param_grid, measures=['rmse'], \\\n",
    "                                      cv=2, n_jobs=-1)\n",
    "                                    \n",
    "gridsearchKNNBasic.fit(data)"
   ]
  },
  {
   "cell_type": "code",
   "execution_count": null,
   "metadata": {},
   "outputs": [],
   "source": [
    "gridsearchKNNBasic.best_params[\"rmse\"]"
   ]
  },
  {
   "cell_type": "code",
   "execution_count": null,
   "metadata": {},
   "outputs": [],
   "source": [
    "gridsearchKNNBasic.best_score[\"rmse\"]"
   ]
  },
  {
   "cell_type": "code",
   "execution_count": null,
   "metadata": {},
   "outputs": [],
   "source": [
    "gs_model=gridsearchKNNBasic.best_estimator['rmse'] "
   ]
  },
  {
   "cell_type": "markdown",
   "metadata": {},
   "source": [
    "### Ajustar predicciones"
   ]
  },
  {
   "cell_type": "code",
   "execution_count": null,
   "metadata": {},
   "outputs": [],
   "source": [
    "trainset = data.build_full_trainset()\n",
    "model=gs_model.fit(trainset)\n",
    "predset = trainset.build_anti_testset()\n",
    "predictions = gs_model.test(predset)"
   ]
  },
  {
   "cell_type": "markdown",
   "metadata": {},
   "source": [
    "### Crear Dataset con las peliculas que no han sido vistas por cada usuario y su calificación predicha"
   ]
  },
  {
   "cell_type": "code",
   "execution_count": null,
   "metadata": {},
   "outputs": [],
   "source": [
    "predictions_df = pd.DataFrame(predictions) \n",
    "predictions_df.shape\n",
    "predictions_df.head()\n",
    "predictions_df['r_ui'].unique() ### promedio de ratings\n",
    "predictions_df.sort_values(by='est',ascending=False)"
   ]
  },
  {
   "cell_type": "markdown",
   "metadata": {},
   "source": [
    "### Definir funcion para mostrar las recomendaciones de cada usuario"
   ]
  },
  {
   "cell_type": "code",
   "execution_count": null,
   "metadata": {},
   "outputs": [],
   "source": [
    "def recomendaciones(user_id = np.sort(list(usuarios['user_id'].value_counts().index)),n_recomend=10):\n",
    "    \n",
    "    predictions_userID = predictions_df[predictions_df['uid'] == int(user_id)].\\\n",
    "                    sort_values(by=\"est\", ascending = False).head(n_recomend)\n",
    "\n",
    "    rec = predictions_userID[['iid','est']]\n",
    "    \n",
    "    recomendados=pd.merge(movies[['movieId','title']],rec,left_on='movieId', right_on='iid', how='right')\n",
    "\n",
    "    return(recomendados[['title','est']])"
   ]
  },
  {
   "cell_type": "code",
   "execution_count": null,
   "metadata": {},
   "outputs": [],
   "source": [
    "print(interact(recomendaciones))"
   ]
  }
 ],
 "metadata": {
  "kernelspec": {
   "display_name": "Python 3",
   "language": "python",
   "name": "python3"
  },
  "language_info": {
   "codemirror_mode": {
    "name": "ipython",
    "version": 3
   },
   "file_extension": ".py",
   "mimetype": "text/x-python",
   "name": "python",
   "nbconvert_exporter": "python",
   "pygments_lexer": "ipython3",
   "version": "3.11.7"
  },
  "orig_nbformat": 4
 },
 "nbformat": 4,
 "nbformat_minor": 2
}
