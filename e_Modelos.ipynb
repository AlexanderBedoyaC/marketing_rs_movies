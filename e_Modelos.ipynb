{
 "cells": [
  {
   "cell_type": "markdown",
   "metadata": {},
   "source": [
    "# 1. Importar librerías"
   ]
  },
  {
   "cell_type": "code",
   "execution_count": 2,
   "metadata": {},
   "outputs": [],
   "source": [
    "import numpy as np\n",
    "import pandas as pd\n",
    "import sqlite3 as sql\n",
    "from sklearn.preprocessing import MinMaxScaler\n",
    "from ipywidgets import interact ## para análisis interactivo\n",
    "from sklearn import neighbors ### basado en contenido un solo producto consumido\n",
    "import joblib"
   ]
  },
  {
   "cell_type": "markdown",
   "metadata": {},
   "source": [
    "# 2. Importar datos"
   ]
  },
  {
   "cell_type": "code",
   "execution_count": 3,
   "metadata": {},
   "outputs": [],
   "source": [
    "conn = sql.connect('data/db_movies')\n",
    "cur = conn.cursor()"
   ]
  },
  {
   "cell_type": "code",
   "execution_count": 4,
   "metadata": {},
   "outputs": [
    {
     "data": {
      "text/plain": [
       "[('ratings',), ('movies',), ('movies2',), ('ratings2',), ('movies_rating',)]"
      ]
     },
     "execution_count": 4,
     "metadata": {},
     "output_type": "execute_result"
    }
   ],
   "source": [
    "cur.execute('select name from sqlite_master where type = \"table\"')\n",
    "cur.fetchall()"
   ]
  },
  {
   "cell_type": "markdown",
   "metadata": {},
   "source": [
    "# 3. Sistemas basados en popularidad"
   ]
  },
  {
   "cell_type": "markdown",
   "metadata": {},
   "source": [
    "### 3.1. Top 10 películas más vistas"
   ]
  },
  {
   "cell_type": "code",
   "execution_count": 14,
   "metadata": {},
   "outputs": [
    {
     "data": {
      "text/html": [
       "<div>\n",
       "<style scoped>\n",
       "    .dataframe tbody tr th:only-of-type {\n",
       "        vertical-align: middle;\n",
       "    }\n",
       "\n",
       "    .dataframe tbody tr th {\n",
       "        vertical-align: top;\n",
       "    }\n",
       "\n",
       "    .dataframe thead th {\n",
       "        text-align: right;\n",
       "    }\n",
       "</style>\n",
       "<table border=\"1\" class=\"dataframe\">\n",
       "  <thead>\n",
       "    <tr style=\"text-align: right;\">\n",
       "      <th></th>\n",
       "      <th>title</th>\n",
       "      <th>rating_prom</th>\n",
       "      <th>view_num</th>\n",
       "    </tr>\n",
       "  </thead>\n",
       "  <tbody>\n",
       "    <tr>\n",
       "      <th>0</th>\n",
       "      <td>Forrest Gump</td>\n",
       "      <td>4.164134</td>\n",
       "      <td>329</td>\n",
       "    </tr>\n",
       "    <tr>\n",
       "      <th>1</th>\n",
       "      <td>Shawshank Redemption, The</td>\n",
       "      <td>4.429022</td>\n",
       "      <td>317</td>\n",
       "    </tr>\n",
       "    <tr>\n",
       "      <th>2</th>\n",
       "      <td>Pulp Fiction</td>\n",
       "      <td>4.197068</td>\n",
       "      <td>307</td>\n",
       "    </tr>\n",
       "    <tr>\n",
       "      <th>3</th>\n",
       "      <td>Silence of the Lambs, The</td>\n",
       "      <td>4.161290</td>\n",
       "      <td>279</td>\n",
       "    </tr>\n",
       "    <tr>\n",
       "      <th>4</th>\n",
       "      <td>Matrix, The</td>\n",
       "      <td>4.192446</td>\n",
       "      <td>278</td>\n",
       "    </tr>\n",
       "    <tr>\n",
       "      <th>5</th>\n",
       "      <td>Star Wars: Episode IV - A New Hope</td>\n",
       "      <td>4.231076</td>\n",
       "      <td>251</td>\n",
       "    </tr>\n",
       "    <tr>\n",
       "      <th>6</th>\n",
       "      <td>Jurassic Park</td>\n",
       "      <td>3.750000</td>\n",
       "      <td>238</td>\n",
       "    </tr>\n",
       "    <tr>\n",
       "      <th>7</th>\n",
       "      <td>Braveheart</td>\n",
       "      <td>4.031646</td>\n",
       "      <td>237</td>\n",
       "    </tr>\n",
       "    <tr>\n",
       "      <th>8</th>\n",
       "      <td>Terminator 2: Judgment Day</td>\n",
       "      <td>3.970982</td>\n",
       "      <td>224</td>\n",
       "    </tr>\n",
       "    <tr>\n",
       "      <th>9</th>\n",
       "      <td>Schindler's List</td>\n",
       "      <td>4.225000</td>\n",
       "      <td>220</td>\n",
       "    </tr>\n",
       "  </tbody>\n",
       "</table>\n",
       "</div>"
      ],
      "text/plain": [
       "                                title  rating_prom  view_num\n",
       "0                        Forrest Gump     4.164134       329\n",
       "1           Shawshank Redemption, The     4.429022       317\n",
       "2                        Pulp Fiction     4.197068       307\n",
       "3           Silence of the Lambs, The     4.161290       279\n",
       "4                         Matrix, The     4.192446       278\n",
       "5  Star Wars: Episode IV - A New Hope     4.231076       251\n",
       "6                       Jurassic Park     3.750000       238\n",
       "7                          Braveheart     4.031646       237\n",
       "8          Terminator 2: Judgment Day     3.970982       224\n",
       "9                    Schindler's List     4.225000       220"
      ]
     },
     "execution_count": 14,
     "metadata": {},
     "output_type": "execute_result"
    }
   ],
   "source": [
    "query = '''\n",
    "SELECT title,\n",
    "        avg(rating) AS rating_prom,\n",
    "        count(*) AS view_num\n",
    "FROM movies_rating\n",
    "GROUP BY movieId\n",
    "ORDER BY view_num DESC\n",
    "LIMIT 10;\n",
    "'''\n",
    "pd.read_sql(query, conn)"
   ]
  },
  {
   "cell_type": "markdown",
   "metadata": {},
   "source": [
    "### 3.2. 10 películas mejor calificadas (calificadas al menos 20 veces)."
   ]
  },
  {
   "cell_type": "code",
   "execution_count": 12,
   "metadata": {},
   "outputs": [
    {
     "data": {
      "text/html": [
       "<div>\n",
       "<style scoped>\n",
       "    .dataframe tbody tr th:only-of-type {\n",
       "        vertical-align: middle;\n",
       "    }\n",
       "\n",
       "    .dataframe tbody tr th {\n",
       "        vertical-align: top;\n",
       "    }\n",
       "\n",
       "    .dataframe thead th {\n",
       "        text-align: right;\n",
       "    }\n",
       "</style>\n",
       "<table border=\"1\" class=\"dataframe\">\n",
       "  <thead>\n",
       "    <tr style=\"text-align: right;\">\n",
       "      <th></th>\n",
       "      <th>title</th>\n",
       "      <th>rating_prom</th>\n",
       "      <th>view_num</th>\n",
       "    </tr>\n",
       "  </thead>\n",
       "  <tbody>\n",
       "    <tr>\n",
       "      <th>0</th>\n",
       "      <td>Streetcar Named Desire, A</td>\n",
       "      <td>4.475000</td>\n",
       "      <td>20</td>\n",
       "    </tr>\n",
       "    <tr>\n",
       "      <th>1</th>\n",
       "      <td>Shawshank Redemption, The</td>\n",
       "      <td>4.429022</td>\n",
       "      <td>317</td>\n",
       "    </tr>\n",
       "    <tr>\n",
       "      <th>2</th>\n",
       "      <td>Sunset Blvd.</td>\n",
       "      <td>4.333333</td>\n",
       "      <td>27</td>\n",
       "    </tr>\n",
       "    <tr>\n",
       "      <th>3</th>\n",
       "      <td>Philadelphia Story, The</td>\n",
       "      <td>4.310345</td>\n",
       "      <td>29</td>\n",
       "    </tr>\n",
       "    <tr>\n",
       "      <th>4</th>\n",
       "      <td>Lawrence of Arabia</td>\n",
       "      <td>4.300000</td>\n",
       "      <td>45</td>\n",
       "    </tr>\n",
       "    <tr>\n",
       "      <th>5</th>\n",
       "      <td>In the Name of the Father</td>\n",
       "      <td>4.300000</td>\n",
       "      <td>25</td>\n",
       "    </tr>\n",
       "    <tr>\n",
       "      <th>6</th>\n",
       "      <td>Hoop Dreams</td>\n",
       "      <td>4.293103</td>\n",
       "      <td>29</td>\n",
       "    </tr>\n",
       "    <tr>\n",
       "      <th>7</th>\n",
       "      <td>Godfather, The</td>\n",
       "      <td>4.289062</td>\n",
       "      <td>192</td>\n",
       "    </tr>\n",
       "    <tr>\n",
       "      <th>8</th>\n",
       "      <td>Harold and Maude</td>\n",
       "      <td>4.288462</td>\n",
       "      <td>26</td>\n",
       "    </tr>\n",
       "    <tr>\n",
       "      <th>9</th>\n",
       "      <td>Logan</td>\n",
       "      <td>4.280000</td>\n",
       "      <td>25</td>\n",
       "    </tr>\n",
       "  </tbody>\n",
       "</table>\n",
       "</div>"
      ],
      "text/plain": [
       "                       title  rating_prom  view_num\n",
       "0  Streetcar Named Desire, A     4.475000        20\n",
       "1  Shawshank Redemption, The     4.429022       317\n",
       "2               Sunset Blvd.     4.333333        27\n",
       "3    Philadelphia Story, The     4.310345        29\n",
       "4         Lawrence of Arabia     4.300000        45\n",
       "5  In the Name of the Father     4.300000        25\n",
       "6                Hoop Dreams     4.293103        29\n",
       "7             Godfather, The     4.289062       192\n",
       "8           Harold and Maude     4.288462        26\n",
       "9                      Logan     4.280000        25"
      ]
     },
     "execution_count": 12,
     "metadata": {},
     "output_type": "execute_result"
    }
   ],
   "source": [
    "query = '''\n",
    "SELECT title,\n",
    "        avg(rating) AS rating_prom,\n",
    "        count(*) AS view_num\n",
    "FROM movies_rating\n",
    "GROUP BY movieId\n",
    "HAVING view_num >= 20\n",
    "ORDER BY rating_prom DESC\n",
    "LIMIT 10;\n",
    "'''\n",
    "pd.read_sql(query, conn)"
   ]
  },
  {
   "cell_type": "markdown",
   "metadata": {},
   "source": [
    "### 3.3. Top 10 películas más vistas por año"
   ]
  },
  {
   "cell_type": "code",
   "execution_count": 20,
   "metadata": {},
   "outputs": [],
   "source": [
    "query = '''\n",
    "SELECT DISTINCT year as year\n",
    "FROM movies_rating\n",
    "ORDER BY year DESC\n",
    "'''\n",
    "years = pd.read_sql(query, conn)"
   ]
  },
  {
   "cell_type": "code",
   "execution_count": 88,
   "metadata": {},
   "outputs": [
    {
     "data": {
      "application/vnd.jupyter.widget-view+json": {
       "model_id": "516f3216372b4cb0bb99f57b91ff96c9",
       "version_major": 2,
       "version_minor": 0
      },
      "text/plain": [
       "interactive(children=(Dropdown(description='Year', options=('2018', '2017', '2016', '2015', '2014', '2013', '2…"
      ]
     },
     "metadata": {},
     "output_type": "display_data"
    },
    {
     "data": {
      "text/plain": [
       "<function __main__.top10_anio(Year)>"
      ]
     },
     "execution_count": 88,
     "metadata": {},
     "output_type": "execute_result"
    }
   ],
   "source": [
    "def top10_anio(Year):\n",
    "    query = '''\n",
    "    SELECT title,\n",
    "        avg(rating) AS rating_prom,\n",
    "        count(*) AS view_num\n",
    "    FROM movies_rating\n",
    "    WHERE year = \"{}\"\n",
    "    GROUP BY movieId\n",
    "    ORDER BY view_num DESC\n",
    "    LIMIT 10;\n",
    "    '''.format(Year)\n",
    "    return pd.read_sql(query, conn)\n",
    "\n",
    "interact(top10_anio, Year = list(years.year))"
   ]
  },
  {
   "cell_type": "markdown",
   "metadata": {},
   "source": [
    "### 3.4. Top 10 películas mejor calificadas por año (calificadas al menos 5 veces)."
   ]
  },
  {
   "cell_type": "code",
   "execution_count": 91,
   "metadata": {},
   "outputs": [
    {
     "data": {
      "application/vnd.jupyter.widget-view+json": {
       "model_id": "a5a1e2e310ee4129888207ebb9c1ac5c",
       "version_major": 2,
       "version_minor": 0
      },
      "text/plain": [
       "interactive(children=(Dropdown(description='Year', options=('2018', '2017', '2016', '2015', '2014', '2013', '2…"
      ]
     },
     "metadata": {},
     "output_type": "display_data"
    },
    {
     "data": {
      "text/plain": [
       "<function __main__.top10_rating_anio(Year)>"
      ]
     },
     "execution_count": 91,
     "metadata": {},
     "output_type": "execute_result"
    }
   ],
   "source": [
    "def top10_rating_anio(Year):\n",
    "    query = '''\n",
    "    SELECT title,\n",
    "        avg(rating) AS rating_prom,\n",
    "        count(*) AS view_num\n",
    "    FROM movies_rating\n",
    "    WHERE year = \"{}\"\n",
    "    GROUP BY movieId\n",
    "    HAVING view_num >= 5\n",
    "    ORDER BY rating_prom DESC\n",
    "    LIMIT 10;\n",
    "    '''.format(Year)\n",
    "    return pd.read_sql(query, conn)\n",
    "\n",
    "interact(top10_rating_anio, Year = list(years.year))"
   ]
  },
  {
   "cell_type": "markdown",
   "metadata": {},
   "source": [
    "### 3.5. Top 10 películas más vistas por género"
   ]
  },
  {
   "cell_type": "code",
   "execution_count": 95,
   "metadata": {},
   "outputs": [],
   "source": [
    "query = '''\n",
    "SELECT `Género`\n",
    "FROM genres\n",
    "'''\n",
    "genres = pd.read_sql(query, conn)"
   ]
  },
  {
   "cell_type": "code",
   "execution_count": 106,
   "metadata": {},
   "outputs": [
    {
     "data": {
      "application/vnd.jupyter.widget-view+json": {
       "model_id": "e0271f1c5482457d9874834db82e5640",
       "version_major": 2,
       "version_minor": 0
      },
      "text/plain": [
       "interactive(children=(Dropdown(description='Genre', options=('Drama', 'Comedy', 'Action', 'Thriller', 'Adventu…"
      ]
     },
     "metadata": {},
     "output_type": "display_data"
    },
    {
     "data": {
      "text/plain": [
       "<function __main__.top10_views_genre(Genre)>"
      ]
     },
     "execution_count": 106,
     "metadata": {},
     "output_type": "execute_result"
    }
   ],
   "source": [
    "def top10_views_genre(Genre):\n",
    "    query = '''\n",
    "    SELECT title,\n",
    "            avg(rating) as rating_prom,\n",
    "            sum({}) as views_num\n",
    "    FROM movies_rating\n",
    "    GROUP BY movieId\n",
    "    ORDER BY views_num DESC\n",
    "    LIMIT 10;\n",
    "    '''.format(Genre)\n",
    "    return pd.read_sql(query, conn)\n",
    "\n",
    "interact(top10_views_genre, Genre = list(genres['Género']))"
   ]
  },
  {
   "cell_type": "markdown",
   "metadata": {},
   "source": [
    "### 3.6. Top 10 películas mejor calificadas por género (calificadas al menos 5 veces)."
   ]
  },
  {
   "cell_type": "code",
   "execution_count": 100,
   "metadata": {},
   "outputs": [
    {
     "data": {
      "application/vnd.jupyter.widget-view+json": {
       "model_id": "2f2a9281867b4b18911fcc0bde129a3e",
       "version_major": 2,
       "version_minor": 0
      },
      "text/plain": [
       "interactive(children=(Dropdown(description='Genre', options=('Drama', 'Comedy', 'Action', 'Thriller', 'Adventu…"
      ]
     },
     "metadata": {},
     "output_type": "display_data"
    },
    {
     "data": {
      "text/plain": [
       "<function __main__.top10_rating_genre(Genre)>"
      ]
     },
     "execution_count": 100,
     "metadata": {},
     "output_type": "execute_result"
    }
   ],
   "source": [
    "def top10_rating_genre(Genre):\n",
    "    query = '''\n",
    "    SELECT title,\n",
    "            avg(rating) as rating_prom,\n",
    "            sum({}) as views_num\n",
    "    FROM movies_rating\n",
    "    GROUP BY movieId\n",
    "    HAVING views_num >= 5\n",
    "    ORDER BY rating_prom DESC\n",
    "    LIMIT 10;\n",
    "    '''.format(Genre)\n",
    "    return pd.read_sql(query, conn)\n",
    "\n",
    "interact(top10_rating_genre, Genre = list(genres['Género']))"
   ]
  }
 ],
 "metadata": {
  "kernelspec": {
   "display_name": "Python 3",
   "language": "python",
   "name": "python3"
  },
  "language_info": {
   "codemirror_mode": {
    "name": "ipython",
    "version": 3
   },
   "file_extension": ".py",
   "mimetype": "text/x-python",
   "name": "python",
   "nbconvert_exporter": "python",
   "pygments_lexer": "ipython3",
   "version": "3.11.4"
  },
  "orig_nbformat": 4
 },
 "nbformat": 4,
 "nbformat_minor": 2
}
