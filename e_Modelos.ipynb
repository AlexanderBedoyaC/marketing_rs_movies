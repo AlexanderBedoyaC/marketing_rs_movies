{
 "cells": [
  {
   "cell_type": "markdown",
   "metadata": {},
   "source": [
    "# 1. Importar librerías"
   ]
  },
  {
   "cell_type": "code",
   "execution_count": 105,
   "metadata": {},
   "outputs": [],
   "source": [
    "import numpy as np\n",
    "import pandas as pd\n",
    "import sqlite3 as sql\n",
    "from sklearn.preprocessing import MinMaxScaler\n",
    "from ipywidgets import interact ## para análisis interactivo\n",
    "from sklearn import neighbors ### basado en contenido un solo producto consumido\n",
    "import joblib\n",
    "from sklearn.preprocessing import MinMaxScaler"
   ]
  },
  {
   "cell_type": "markdown",
   "metadata": {},
   "source": [
    "# 2. Importar datos"
   ]
  },
  {
   "cell_type": "code",
   "execution_count": 7,
   "metadata": {},
   "outputs": [],
   "source": [
    "conn = sql.connect('data/db_movies')\n",
    "cur = conn.cursor()"
   ]
  },
  {
   "cell_type": "code",
   "execution_count": 8,
   "metadata": {},
   "outputs": [
    {
     "data": {
      "text/plain": [
       "[('ratings',),\n",
       " ('movies',),\n",
       " ('movies2',),\n",
       " ('ratings2',),\n",
       " ('movies_rating',),\n",
       " ('genres',)]"
      ]
     },
     "execution_count": 8,
     "metadata": {},
     "output_type": "execute_result"
    }
   ],
   "source": [
    "cur.execute('select name from sqlite_master where type = \"table\"')\n",
    "cur.fetchall()"
   ]
  },
  {
   "cell_type": "markdown",
   "metadata": {},
   "source": [
    "# 3. Sistemas basados en popularidad"
   ]
  },
  {
   "cell_type": "markdown",
   "metadata": {},
   "source": [
    "### 3.1. Top 10 películas con más calificaciones"
   ]
  },
  {
   "cell_type": "code",
   "execution_count": 9,
   "metadata": {},
   "outputs": [
    {
     "data": {
      "text/html": [
       "<div>\n",
       "<style scoped>\n",
       "    .dataframe tbody tr th:only-of-type {\n",
       "        vertical-align: middle;\n",
       "    }\n",
       "\n",
       "    .dataframe tbody tr th {\n",
       "        vertical-align: top;\n",
       "    }\n",
       "\n",
       "    .dataframe thead th {\n",
       "        text-align: right;\n",
       "    }\n",
       "</style>\n",
       "<table border=\"1\" class=\"dataframe\">\n",
       "  <thead>\n",
       "    <tr style=\"text-align: right;\">\n",
       "      <th></th>\n",
       "      <th>title</th>\n",
       "      <th>rating_prom</th>\n",
       "      <th>view_num</th>\n",
       "    </tr>\n",
       "  </thead>\n",
       "  <tbody>\n",
       "    <tr>\n",
       "      <th>0</th>\n",
       "      <td>Forrest Gump (1994)</td>\n",
       "      <td>4.164134</td>\n",
       "      <td>329</td>\n",
       "    </tr>\n",
       "    <tr>\n",
       "      <th>1</th>\n",
       "      <td>Shawshank Redemption, The (1994)</td>\n",
       "      <td>4.429022</td>\n",
       "      <td>317</td>\n",
       "    </tr>\n",
       "    <tr>\n",
       "      <th>2</th>\n",
       "      <td>Pulp Fiction (1994)</td>\n",
       "      <td>4.197068</td>\n",
       "      <td>307</td>\n",
       "    </tr>\n",
       "    <tr>\n",
       "      <th>3</th>\n",
       "      <td>Silence of the Lambs, The (1991)</td>\n",
       "      <td>4.161290</td>\n",
       "      <td>279</td>\n",
       "    </tr>\n",
       "    <tr>\n",
       "      <th>4</th>\n",
       "      <td>Matrix, The (1999)</td>\n",
       "      <td>4.192446</td>\n",
       "      <td>278</td>\n",
       "    </tr>\n",
       "    <tr>\n",
       "      <th>5</th>\n",
       "      <td>Star Wars: Episode IV - A New Hope (1977)</td>\n",
       "      <td>4.231076</td>\n",
       "      <td>251</td>\n",
       "    </tr>\n",
       "    <tr>\n",
       "      <th>6</th>\n",
       "      <td>Jurassic Park (1993)</td>\n",
       "      <td>3.750000</td>\n",
       "      <td>238</td>\n",
       "    </tr>\n",
       "    <tr>\n",
       "      <th>7</th>\n",
       "      <td>Braveheart (1995)</td>\n",
       "      <td>4.031646</td>\n",
       "      <td>237</td>\n",
       "    </tr>\n",
       "    <tr>\n",
       "      <th>8</th>\n",
       "      <td>Terminator 2: Judgment Day (1991)</td>\n",
       "      <td>3.970982</td>\n",
       "      <td>224</td>\n",
       "    </tr>\n",
       "    <tr>\n",
       "      <th>9</th>\n",
       "      <td>Schindler's List (1993)</td>\n",
       "      <td>4.225000</td>\n",
       "      <td>220</td>\n",
       "    </tr>\n",
       "  </tbody>\n",
       "</table>\n",
       "</div>"
      ],
      "text/plain": [
       "                                       title  rating_prom  view_num\n",
       "0                        Forrest Gump (1994)     4.164134       329\n",
       "1           Shawshank Redemption, The (1994)     4.429022       317\n",
       "2                        Pulp Fiction (1994)     4.197068       307\n",
       "3           Silence of the Lambs, The (1991)     4.161290       279\n",
       "4                         Matrix, The (1999)     4.192446       278\n",
       "5  Star Wars: Episode IV - A New Hope (1977)     4.231076       251\n",
       "6                       Jurassic Park (1993)     3.750000       238\n",
       "7                          Braveheart (1995)     4.031646       237\n",
       "8          Terminator 2: Judgment Day (1991)     3.970982       224\n",
       "9                    Schindler's List (1993)     4.225000       220"
      ]
     },
     "execution_count": 9,
     "metadata": {},
     "output_type": "execute_result"
    }
   ],
   "source": [
    "query = '''\n",
    "SELECT title,\n",
    "        avg(rating) AS rating_prom,\n",
    "        count(*) AS view_num\n",
    "FROM movies_rating\n",
    "GROUP BY movieId\n",
    "ORDER BY view_num DESC\n",
    "LIMIT 10;\n",
    "'''\n",
    "pd.read_sql(query, conn)"
   ]
  },
  {
   "cell_type": "markdown",
   "metadata": {},
   "source": [
    "### 3.2. 10 películas mejor calificadas (calificadas al menos 30 veces)."
   ]
  },
  {
   "cell_type": "code",
   "execution_count": 90,
   "metadata": {},
   "outputs": [
    {
     "data": {
      "text/html": [
       "<div>\n",
       "<style scoped>\n",
       "    .dataframe tbody tr th:only-of-type {\n",
       "        vertical-align: middle;\n",
       "    }\n",
       "\n",
       "    .dataframe tbody tr th {\n",
       "        vertical-align: top;\n",
       "    }\n",
       "\n",
       "    .dataframe thead th {\n",
       "        text-align: right;\n",
       "    }\n",
       "</style>\n",
       "<table border=\"1\" class=\"dataframe\">\n",
       "  <thead>\n",
       "    <tr style=\"text-align: right;\">\n",
       "      <th></th>\n",
       "      <th>title</th>\n",
       "      <th>rating_prom</th>\n",
       "      <th>view_num</th>\n",
       "    </tr>\n",
       "  </thead>\n",
       "  <tbody>\n",
       "    <tr>\n",
       "      <th>0</th>\n",
       "      <td>Shawshank Redemption, The (1994)</td>\n",
       "      <td>4.429022</td>\n",
       "      <td>317</td>\n",
       "    </tr>\n",
       "    <tr>\n",
       "      <th>1</th>\n",
       "      <td>Lawrence of Arabia (1962)</td>\n",
       "      <td>4.300000</td>\n",
       "      <td>45</td>\n",
       "    </tr>\n",
       "    <tr>\n",
       "      <th>2</th>\n",
       "      <td>Godfather, The (1972)</td>\n",
       "      <td>4.289062</td>\n",
       "      <td>192</td>\n",
       "    </tr>\n",
       "    <tr>\n",
       "      <th>3</th>\n",
       "      <td>Fight Club (1999)</td>\n",
       "      <td>4.272936</td>\n",
       "      <td>218</td>\n",
       "    </tr>\n",
       "    <tr>\n",
       "      <th>4</th>\n",
       "      <td>Cool Hand Luke (1967)</td>\n",
       "      <td>4.271930</td>\n",
       "      <td>57</td>\n",
       "    </tr>\n",
       "    <tr>\n",
       "      <th>5</th>\n",
       "      <td>Dr. Strangelove or: How I Learned to Stop Worr...</td>\n",
       "      <td>4.268041</td>\n",
       "      <td>97</td>\n",
       "    </tr>\n",
       "    <tr>\n",
       "      <th>6</th>\n",
       "      <td>Rear Window (1954)</td>\n",
       "      <td>4.261905</td>\n",
       "      <td>84</td>\n",
       "    </tr>\n",
       "    <tr>\n",
       "      <th>7</th>\n",
       "      <td>Godfather: Part II, The (1974)</td>\n",
       "      <td>4.259690</td>\n",
       "      <td>129</td>\n",
       "    </tr>\n",
       "    <tr>\n",
       "      <th>8</th>\n",
       "      <td>Departed, The (2006)</td>\n",
       "      <td>4.252336</td>\n",
       "      <td>107</td>\n",
       "    </tr>\n",
       "    <tr>\n",
       "      <th>9</th>\n",
       "      <td>Manchurian Candidate, The (1962)</td>\n",
       "      <td>4.250000</td>\n",
       "      <td>30</td>\n",
       "    </tr>\n",
       "  </tbody>\n",
       "</table>\n",
       "</div>"
      ],
      "text/plain": [
       "                                               title  rating_prom  view_num\n",
       "0                   Shawshank Redemption, The (1994)     4.429022       317\n",
       "1                          Lawrence of Arabia (1962)     4.300000        45\n",
       "2                              Godfather, The (1972)     4.289062       192\n",
       "3                                  Fight Club (1999)     4.272936       218\n",
       "4                              Cool Hand Luke (1967)     4.271930        57\n",
       "5  Dr. Strangelove or: How I Learned to Stop Worr...     4.268041        97\n",
       "6                                 Rear Window (1954)     4.261905        84\n",
       "7                     Godfather: Part II, The (1974)     4.259690       129\n",
       "8                               Departed, The (2006)     4.252336       107\n",
       "9                   Manchurian Candidate, The (1962)     4.250000        30"
      ]
     },
     "execution_count": 90,
     "metadata": {},
     "output_type": "execute_result"
    }
   ],
   "source": [
    "query = '''\n",
    "SELECT title,\n",
    "        avg(rating) AS rating_prom,\n",
    "        count(*) AS view_num\n",
    "FROM movies_rating\n",
    "GROUP BY movieId\n",
    "HAVING view_num >= 30\n",
    "ORDER BY rating_prom DESC\n",
    "LIMIT 10;\n",
    "'''\n",
    "pd.read_sql(query, conn)"
   ]
  },
  {
   "cell_type": "markdown",
   "metadata": {},
   "source": [
    "### 3.3. Top 10 películas más calificadas por decada"
   ]
  },
  {
   "cell_type": "code",
   "execution_count": 52,
   "metadata": {},
   "outputs": [],
   "source": [
    "query = '''\n",
    "SELECT DISTINCT year as year\n",
    "FROM movies_rating\n",
    "ORDER BY year DESC\n",
    "'''\n",
    "years = pd.read_sql(query, conn)"
   ]
  },
  {
   "cell_type": "code",
   "execution_count": 75,
   "metadata": {},
   "outputs": [],
   "source": [
    "decadas = [str(d) + '-' + str(d + 10) for d in range(1900,2020, 10)]\n",
    "years['decada'] = pd.cut(years.year.astype(int), len(decadas), labels = decadas)"
   ]
  },
  {
   "cell_type": "code",
   "execution_count": 78,
   "metadata": {},
   "outputs": [
    {
     "data": {
      "application/vnd.jupyter.widget-view+json": {
       "model_id": "2e4da0b8ddef46ce8b154634a73c2350",
       "version_major": 2,
       "version_minor": 0
      },
      "text/plain": [
       "interactive(children=(Dropdown(description='Decada', options=('1900-1910', '1910-1920', '1920-1930', '1930-194…"
      ]
     },
     "metadata": {},
     "output_type": "display_data"
    },
    {
     "data": {
      "text/plain": [
       "<function __main__.top10_dec(Decada)>"
      ]
     },
     "execution_count": 78,
     "metadata": {},
     "output_type": "execute_result"
    }
   ],
   "source": [
    "def top10_dec(Decada):\n",
    "    d = Decada.split('-')\n",
    "    query = '''\n",
    "    SELECT title,\n",
    "        avg(rating) AS rating_prom,\n",
    "        count(*) AS view_num\n",
    "    FROM movies_rating\n",
    "    WHERE year >= \"{}\" and year < \"{}\"\n",
    "    GROUP BY movieId\n",
    "    ORDER BY view_num DESC\n",
    "    LIMIT 10;\n",
    "    '''.format(d[0], d[1])\n",
    "    return pd.read_sql(query, conn)\n",
    "\n",
    "interact(top10_dec, Decada = decadas)"
   ]
  },
  {
   "cell_type": "markdown",
   "metadata": {},
   "source": [
    "### 3.4. Top 10 películas mejor calificadas por decada (calificadas al menos 30 veces)."
   ]
  },
  {
   "cell_type": "code",
   "execution_count": 89,
   "metadata": {},
   "outputs": [
    {
     "data": {
      "application/vnd.jupyter.widget-view+json": {
       "model_id": "99d252d0bdef415a9381d0d14963c643",
       "version_major": 2,
       "version_minor": 0
      },
      "text/plain": [
       "interactive(children=(Dropdown(description='Decada', options=('1900-1910', '1910-1920', '1920-1930', '1930-194…"
      ]
     },
     "metadata": {},
     "output_type": "display_data"
    },
    {
     "data": {
      "text/plain": [
       "<function __main__.top10_rating_dec(Decada)>"
      ]
     },
     "execution_count": 89,
     "metadata": {},
     "output_type": "execute_result"
    }
   ],
   "source": [
    "def top10_rating_dec(Decada):\n",
    "    d = Decada.split('-')\n",
    "    query = '''\n",
    "    SELECT title,\n",
    "        avg(rating) AS rating_prom,\n",
    "        count(*) AS view_num\n",
    "    FROM movies_rating\n",
    "    WHERE year >= \"{}\" and year < \"{}\"\n",
    "    GROUP BY movieId\n",
    "    HAVING view_num >= 30\n",
    "    ORDER BY rating_prom DESC\n",
    "    LIMIT 10;\n",
    "    '''.format(d[0], d[1])\n",
    "    return pd.read_sql(query, conn)\n",
    "\n",
    "interact(top10_rating_dec, Decada = decadas)"
   ]
  },
  {
   "cell_type": "markdown",
   "metadata": {},
   "source": [
    "### 3.5. Top 10 películas más calificadas por género"
   ]
  },
  {
   "cell_type": "code",
   "execution_count": 81,
   "metadata": {},
   "outputs": [],
   "source": [
    "query = '''\n",
    "SELECT `Género`\n",
    "FROM genres\n",
    "'''\n",
    "genres = pd.read_sql(query, conn)"
   ]
  },
  {
   "cell_type": "code",
   "execution_count": 82,
   "metadata": {},
   "outputs": [
    {
     "data": {
      "application/vnd.jupyter.widget-view+json": {
       "model_id": "2acc06a6092b40a2b9bd5decb2abed12",
       "version_major": 2,
       "version_minor": 0
      },
      "text/plain": [
       "interactive(children=(Dropdown(description='Genre', options=('Drama', 'Comedy', 'Action', 'Thriller', 'Adventu…"
      ]
     },
     "metadata": {},
     "output_type": "display_data"
    },
    {
     "data": {
      "text/plain": [
       "<function __main__.top10_views_genre(Genre)>"
      ]
     },
     "execution_count": 82,
     "metadata": {},
     "output_type": "execute_result"
    }
   ],
   "source": [
    "def top10_views_genre(Genre):\n",
    "    query = '''\n",
    "    SELECT title,\n",
    "            avg(rating) as rating_prom,\n",
    "            sum({}) as views_num\n",
    "    FROM movies_rating\n",
    "    GROUP BY movieId\n",
    "    ORDER BY views_num DESC\n",
    "    LIMIT 10;\n",
    "    '''.format(Genre)\n",
    "    return pd.read_sql(query, conn)\n",
    "\n",
    "interact(top10_views_genre, Genre = list(genres['Género']))"
   ]
  },
  {
   "cell_type": "markdown",
   "metadata": {},
   "source": [
    "### 3.6. Top 10 películas mejor calificadas por género (calificadas al menos 30 veces)."
   ]
  },
  {
   "cell_type": "code",
   "execution_count": 87,
   "metadata": {},
   "outputs": [
    {
     "data": {
      "application/vnd.jupyter.widget-view+json": {
       "model_id": "028fcb9720ab467d8fb6d947851595e4",
       "version_major": 2,
       "version_minor": 0
      },
      "text/plain": [
       "interactive(children=(Dropdown(description='Genre', options=('Drama', 'Comedy', 'Action', 'Thriller', 'Adventu…"
      ]
     },
     "metadata": {},
     "output_type": "display_data"
    },
    {
     "data": {
      "text/plain": [
       "<function __main__.top10_rating_genre(Genre)>"
      ]
     },
     "execution_count": 87,
     "metadata": {},
     "output_type": "execute_result"
    }
   ],
   "source": [
    "def top10_rating_genre(Genre):\n",
    "    query = '''\n",
    "    SELECT title,\n",
    "            avg(rating) as rating_prom,\n",
    "            sum({}) as views_num\n",
    "    FROM movies_rating\n",
    "    GROUP BY movieId\n",
    "    HAVING views_num >= 30\n",
    "    ORDER BY rating_prom DESC\n",
    "    LIMIT 10;\n",
    "    '''.format(Genre)\n",
    "    return pd.read_sql(query, conn)\n",
    "\n",
    "interact(top10_rating_genre, Genre = list(genres['Género']))"
   ]
  },
  {
   "cell_type": "markdown",
   "metadata": {},
   "source": [
    "# 4. Sistema de recomendación basado en contenido"
   ]
  },
  {
   "cell_type": "markdown",
   "metadata": {},
   "source": [
    "### 4.1. KNN una sola película vista."
   ]
  },
  {
   "cell_type": "markdown",
   "metadata": {},
   "source": [
    "Importar base de datos solo de películas"
   ]
  },
  {
   "cell_type": "code",
   "execution_count": 97,
   "metadata": {},
   "outputs": [],
   "source": [
    "movies = pd.read_sql('SELECT * FROM movies2;', conn)"
   ]
  },
  {
   "cell_type": "markdown",
   "metadata": {},
   "source": [
    "Escalar la variable año"
   ]
  },
  {
   "cell_type": "code",
   "execution_count": 107,
   "metadata": {},
   "outputs": [],
   "source": [
    "sc = MinMaxScaler()\n",
    "movies_std = movies.drop(['movieId', 'title'], axis = 1)\n",
    "movies_std[['year']] = sc.fit_transform(movies_std[['year']])"
   ]
  },
  {
   "cell_type": "markdown",
   "metadata": {},
   "source": [
    "Modelo con 11 vecinos más cercanos"
   ]
  },
  {
   "cell_type": "code",
   "execution_count": 109,
   "metadata": {},
   "outputs": [],
   "source": [
    "model = neighbors.NearestNeighbors(n_neighbors = 11, metric='cosine')\n",
    "model.fit(movies_std)\n",
    "dist, idlist = model.kneighbors(movies_std)\n",
    "\n",
    "distancias = pd.DataFrame(dist)\n",
    "id_list = pd.DataFrame(idlist)"
   ]
  },
  {
   "cell_type": "markdown",
   "metadata": {},
   "source": [
    "Sistema de recomendación"
   ]
  },
  {
   "cell_type": "code",
   "execution_count": 139,
   "metadata": {},
   "outputs": [
    {
     "data": {
      "application/vnd.jupyter.widget-view+json": {
       "model_id": "ce974af7375740578a77c5da27bcd3d0",
       "version_major": 2,
       "version_minor": 0
      },
      "text/plain": [
       "interactive(children=(Dropdown(description='movies_name', options=(\"'71 (2014)\", \"'Hellboy': The Seeds of Crea…"
      ]
     },
     "metadata": {},
     "output_type": "display_data"
    },
    {
     "name": "stdout",
     "output_type": "stream",
     "text": [
      "<function BookRecommender at 0x000002A646851800>\n"
     ]
    }
   ],
   "source": [
    "def BookRecommender(movies_name = np.sort(list(movies['title'].value_counts().index))):\n",
    "    movies_list_name = []\n",
    "    movies_id = movies[movies['title'] == movies_name].index\n",
    "    movies_id = movies_id[0]\n",
    "    for newid in idlist[movies_id]:\n",
    "        movies_list_name.append(movies.loc[newid].title)\n",
    "    df = pd.DataFrame()\n",
    "    df['Movie'] = movies_list_name\n",
    "    df2 = df.drop(df[df['Movie'] == movies.loc[movies_id].title].index[0])\n",
    "    return df2\n",
    "\n",
    "\n",
    "print(interact(BookRecommender))"
   ]
  }
 ],
 "metadata": {
  "kernelspec": {
   "display_name": "Python 3",
   "language": "python",
   "name": "python3"
  },
  "language_info": {
   "codemirror_mode": {
    "name": "ipython",
    "version": 3
   },
   "file_extension": ".py",
   "mimetype": "text/x-python",
   "name": "python",
   "nbconvert_exporter": "python",
   "pygments_lexer": "ipython3",
   "version": "3.11.4"
  },
  "orig_nbformat": 4
 },
 "nbformat": 4,
 "nbformat_minor": 2
}
